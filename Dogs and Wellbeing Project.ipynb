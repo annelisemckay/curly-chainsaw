{
 "cells": [
  {
   "cell_type": "markdown",
   "id": "56f0c4e2",
   "metadata": {
    "slideshow": {
     "slide_type": "slide"
    }
   },
   "source": [
    " <div style=\"text-align: center;\"><h1>Therapy Dogs for Hospital Patients</h1>\n",
    "    <h2> Annelise McKay</h2>\n",
    "    <h3>Thursday, September 07, 2023 </h3> </div>"
   ]
  },
  {
   "cell_type": "markdown",
   "id": "6b3bd423",
   "metadata": {
    "slideshow": {
     "slide_type": "slide"
    }
   },
   "source": [
    "<div style=\"text-align: center;\"> <h1> Research Question:</h1>\n",
    "<h3> Are therapy dogs more effective at alleviating depression, anxiety, and physical pain in emergency department hospital patients compared to standard healthcare treatments? </h3> </div>"
   ]
  },
  {
   "cell_type": "markdown",
   "id": "3e3c6aec",
   "metadata": {
    "slideshow": {
     "slide_type": "slide"
    }
   },
   "source": [
    " <div style=\"text-align: center;\"><h1>Content:  </h1></div>\n",
    "         <ul>\n",
    "    <li><b>Introduction:</b> Summary of the experiment behind the data in this analysis</li>\n",
    "    <li><b>Methods:</b> What I expected to find and how I attempted to find it. </li>\n",
    "    <li><b>Results:</b> Visualizations and key findings. </i>\n",
    "    <li><b>Discussion:</b> Implications of the key findings.\n",
    "    <li><b>Conclusion:</b> Takeaways from this experiment.</li>\n",
    "    </ul>"
   ]
  },
  {
   "cell_type": "markdown",
   "id": "42b597f0",
   "metadata": {
    "slideshow": {
     "slide_type": "slide"
    }
   },
   "source": [
    "<div style=\"display: flex;\">\n",
    "    <img src=\"https://github.com/annelisemckay/curly-chainsaw/blob/main/DogImage.png?raw=true\" alt=\"Image Alt Text\" width=\"300\">\n",
    "    <div style=\"flex: 1; margin-left: 20px; font-size: 16pt;\">\n",
    "        <h1>Introduction:</h1>\n",
    "        <br></br>\n",
    "            <li>Objective: Test relationship between therapy dogs and depression/anxiety/pain levels</li>\n",
    "                <li>Participants: 80 medically stable emergency department patients over the age of 18</li>\n",
    "                <li>Groups: Participants divided into two groups- dog vs. control</li>\n",
    "                <li>Measurement: Levels of depression, anxiety, and pain were rated on a scale from 0-10</li>\n",
    "        <p><strong>Data Source:</strong> Kline, Jeffrey A. (2019). Data from: Controlled clinical trial of canine therapy versus usual care to reduce patient anxiety in the emergency department [Dataset]. Dryad. <a href=\"https://doi.org/10.5061/dryad.9pv5625\">https://doi.org/10.5061/dryad.9pv5625</a></p></font>\n",
    "    </div>\n",
    "</div>\n"
   ]
  },
  {
   "cell_type": "code",
   "execution_count": 184,
   "id": "91f214c5",
   "metadata": {
    "slideshow": {
     "slide_type": "skip"
    }
   },
   "outputs": [],
   "source": [
    "#importing all packages I might use\n",
    "import pandas as pd\n",
    "import numpy as np\n",
    "from sklearn.model_selection import train_test_split\n",
    "from sklearn.linear_model import LinearRegression\n",
    "from sklearn.metrics import mean_squared_error\n",
    "from matplotlib import pyplot as plt\n",
    "import matplotlib.pyplot as plt\n",
    "from sklearn.preprocessing import OrdinalEncoder\n",
    "import seaborn as sns\n",
    "import statsmodels.api as sm\n",
    "import scipy.stats as stats"
   ]
  },
  {
   "cell_type": "code",
   "execution_count": 185,
   "id": "865ff9ef",
   "metadata": {
    "slideshow": {
     "slide_type": "skip"
    }
   },
   "outputs": [],
   "source": [
    "#loading the data\n",
    "excel_file_path = '/Users/annelisemckay/Downloads/CANINE_DATA_LABELS_2018-12-07 public deidentified V3.xls'\n",
    "df = pd.read_excel(excel_file_path)"
   ]
  },
  {
   "cell_type": "code",
   "execution_count": 186,
   "id": "f2585fd2",
   "metadata": {
    "slideshow": {
     "slide_type": "skip"
    }
   },
   "outputs": [
    {
     "data": {
      "text/html": [
       "<div>\n",
       "<style scoped>\n",
       "    .dataframe tbody tr th:only-of-type {\n",
       "        vertical-align: middle;\n",
       "    }\n",
       "\n",
       "    .dataframe tbody tr th {\n",
       "        vertical-align: top;\n",
       "    }\n",
       "\n",
       "    .dataframe thead th {\n",
       "        text-align: right;\n",
       "    }\n",
       "</style>\n",
       "<table border=\"1\" class=\"dataframe\">\n",
       "  <thead>\n",
       "    <tr style=\"text-align: right;\">\n",
       "      <th></th>\n",
       "      <th>Record ID</th>\n",
       "      <th>Event Name</th>\n",
       "      <th>Age</th>\n",
       "      <th>Gender</th>\n",
       "      <th>Race</th>\n",
       "      <th>Race - Other</th>\n",
       "      <th>Is subject a veteran?</th>\n",
       "      <th>Is subject disabled?</th>\n",
       "      <th>Medical History (choice=None)</th>\n",
       "      <th>Medical History (choice=Asthma)</th>\n",
       "      <th>...</th>\n",
       "      <th>Patient  Anxiety rating based on image above</th>\n",
       "      <th>Unnamed: 82</th>\n",
       "      <th>Time Scales Administered (Provider)</th>\n",
       "      <th>Provider  Pain rating based on image above</th>\n",
       "      <th>Provider  Depression rating based on image above</th>\n",
       "      <th>Provider  Anxiety rating based on image above</th>\n",
       "      <th>Did the subject touch the dog?</th>\n",
       "      <th>Did you talk to the subject about their problem?</th>\n",
       "      <th>On a scale of 0-5 how would you rate the subject's interaction with the dog?  0 = withdrawn, no interaction with either me or dog  3 = some interaction with me and/or dog  5 = engaged with me and dog</th>\n",
       "      <th>Complete?.2</th>\n",
       "    </tr>\n",
       "  </thead>\n",
       "  <tbody>\n",
       "    <tr>\n",
       "      <th>0</th>\n",
       "      <td>1 - Withdrawn</td>\n",
       "      <td>Baseline (T0) (Arm 1: Dog)</td>\n",
       "      <td>61.0</td>\n",
       "      <td>Female</td>\n",
       "      <td>White</td>\n",
       "      <td>NaN</td>\n",
       "      <td>NaN</td>\n",
       "      <td>NaN</td>\n",
       "      <td>Unchecked</td>\n",
       "      <td>Unchecked</td>\n",
       "      <td>...</td>\n",
       "      <td>10.0</td>\n",
       "      <td>NaN</td>\n",
       "      <td>NaN</td>\n",
       "      <td>NaN</td>\n",
       "      <td>NaN</td>\n",
       "      <td>NaN</td>\n",
       "      <td>NaN</td>\n",
       "      <td>NaN</td>\n",
       "      <td>NaN</td>\n",
       "      <td>Complete</td>\n",
       "    </tr>\n",
       "    <tr>\n",
       "      <th>1</th>\n",
       "      <td>5</td>\n",
       "      <td>Baseline (T0) (Arm 1: Dog)</td>\n",
       "      <td>41.0</td>\n",
       "      <td>Female</td>\n",
       "      <td>White</td>\n",
       "      <td>NaN</td>\n",
       "      <td>NaN</td>\n",
       "      <td>NaN</td>\n",
       "      <td>Unchecked</td>\n",
       "      <td>Checked</td>\n",
       "      <td>...</td>\n",
       "      <td>6.0</td>\n",
       "      <td>NaN</td>\n",
       "      <td>14:00:00</td>\n",
       "      <td>0.0</td>\n",
       "      <td>9.0</td>\n",
       "      <td>8.0</td>\n",
       "      <td>NaN</td>\n",
       "      <td>NaN</td>\n",
       "      <td>NaN</td>\n",
       "      <td>Complete</td>\n",
       "    </tr>\n",
       "    <tr>\n",
       "      <th>2</th>\n",
       "      <td>6</td>\n",
       "      <td>Baseline (T0) (Arm 1: Dog)</td>\n",
       "      <td>58.0</td>\n",
       "      <td>Male</td>\n",
       "      <td>White</td>\n",
       "      <td>NaN</td>\n",
       "      <td>NaN</td>\n",
       "      <td>NaN</td>\n",
       "      <td>Unchecked</td>\n",
       "      <td>Unchecked</td>\n",
       "      <td>...</td>\n",
       "      <td>6.0</td>\n",
       "      <td>NaN</td>\n",
       "      <td>10:18:00</td>\n",
       "      <td>0.0</td>\n",
       "      <td>2.0</td>\n",
       "      <td>8.0</td>\n",
       "      <td>NaN</td>\n",
       "      <td>NaN</td>\n",
       "      <td>NaN</td>\n",
       "      <td>Complete</td>\n",
       "    </tr>\n",
       "    <tr>\n",
       "      <th>3</th>\n",
       "      <td>9</td>\n",
       "      <td>Baseline (T0) (Arm 1: Dog)</td>\n",
       "      <td>72.0</td>\n",
       "      <td>Female</td>\n",
       "      <td>White</td>\n",
       "      <td>NaN</td>\n",
       "      <td>NaN</td>\n",
       "      <td>NaN</td>\n",
       "      <td>Unchecked</td>\n",
       "      <td>Unchecked</td>\n",
       "      <td>...</td>\n",
       "      <td>10.0</td>\n",
       "      <td>NaN</td>\n",
       "      <td>12:24:00</td>\n",
       "      <td>0.0</td>\n",
       "      <td>10.0</td>\n",
       "      <td>4.0</td>\n",
       "      <td>NaN</td>\n",
       "      <td>NaN</td>\n",
       "      <td>NaN</td>\n",
       "      <td>Complete</td>\n",
       "    </tr>\n",
       "    <tr>\n",
       "      <th>4</th>\n",
       "      <td>10</td>\n",
       "      <td>Baseline (T0) (Arm 1: Dog)</td>\n",
       "      <td>54.0</td>\n",
       "      <td>Female</td>\n",
       "      <td>White</td>\n",
       "      <td>NaN</td>\n",
       "      <td>NaN</td>\n",
       "      <td>NaN</td>\n",
       "      <td>Unchecked</td>\n",
       "      <td>Unchecked</td>\n",
       "      <td>...</td>\n",
       "      <td>6.0</td>\n",
       "      <td>NaN</td>\n",
       "      <td>11:16:00</td>\n",
       "      <td>2.0</td>\n",
       "      <td>2.0</td>\n",
       "      <td>4.0</td>\n",
       "      <td>NaN</td>\n",
       "      <td>NaN</td>\n",
       "      <td>NaN</td>\n",
       "      <td>Complete</td>\n",
       "    </tr>\n",
       "  </tbody>\n",
       "</table>\n",
       "<p>5 rows × 91 columns</p>\n",
       "</div>"
      ],
      "text/plain": [
       "       Record ID                  Event Name   Age  Gender   Race  \\\n",
       "0  1 - Withdrawn  Baseline (T0) (Arm 1: Dog)  61.0  Female  White   \n",
       "1              5  Baseline (T0) (Arm 1: Dog)  41.0  Female  White   \n",
       "2              6  Baseline (T0) (Arm 1: Dog)  58.0    Male  White   \n",
       "3              9  Baseline (T0) (Arm 1: Dog)  72.0  Female  White   \n",
       "4             10  Baseline (T0) (Arm 1: Dog)  54.0  Female  White   \n",
       "\n",
       "  Race - Other Is subject a veteran? Is subject disabled?  \\\n",
       "0          NaN                   NaN                  NaN   \n",
       "1          NaN                   NaN                  NaN   \n",
       "2          NaN                   NaN                  NaN   \n",
       "3          NaN                   NaN                  NaN   \n",
       "4          NaN                   NaN                  NaN   \n",
       "\n",
       "  Medical History (choice=None) Medical History (choice=Asthma)  ...  \\\n",
       "0                     Unchecked                       Unchecked  ...   \n",
       "1                     Unchecked                         Checked  ...   \n",
       "2                     Unchecked                       Unchecked  ...   \n",
       "3                     Unchecked                       Unchecked  ...   \n",
       "4                     Unchecked                       Unchecked  ...   \n",
       "\n",
       "  Patient  Anxiety rating based on image above Unnamed: 82  \\\n",
       "0                                         10.0         NaN   \n",
       "1                                          6.0         NaN   \n",
       "2                                          6.0         NaN   \n",
       "3                                         10.0         NaN   \n",
       "4                                          6.0         NaN   \n",
       "\n",
       "  Time Scales Administered (Provider)  \\\n",
       "0                                 NaN   \n",
       "1                            14:00:00   \n",
       "2                            10:18:00   \n",
       "3                            12:24:00   \n",
       "4                            11:16:00   \n",
       "\n",
       "  Provider  Pain rating based on image above  \\\n",
       "0                                        NaN   \n",
       "1                                        0.0   \n",
       "2                                        0.0   \n",
       "3                                        0.0   \n",
       "4                                        2.0   \n",
       "\n",
       "  Provider  Depression rating based on image above  \\\n",
       "0                                              NaN   \n",
       "1                                              9.0   \n",
       "2                                              2.0   \n",
       "3                                             10.0   \n",
       "4                                              2.0   \n",
       "\n",
       "  Provider  Anxiety rating based on image above  \\\n",
       "0                                           NaN   \n",
       "1                                           8.0   \n",
       "2                                           8.0   \n",
       "3                                           4.0   \n",
       "4                                           4.0   \n",
       "\n",
       "  Did the subject touch the dog?  \\\n",
       "0                            NaN   \n",
       "1                            NaN   \n",
       "2                            NaN   \n",
       "3                            NaN   \n",
       "4                            NaN   \n",
       "\n",
       "  Did you talk to the subject about their problem?  \\\n",
       "0                                              NaN   \n",
       "1                                              NaN   \n",
       "2                                              NaN   \n",
       "3                                              NaN   \n",
       "4                                              NaN   \n",
       "\n",
       "  On a scale of 0-5 how would you rate the subject's interaction with the dog?  0 = withdrawn, no interaction with either me or dog  3 = some interaction with me and/or dog  5 = engaged with me and dog  \\\n",
       "0                                                NaN                                                                                                                                                        \n",
       "1                                                NaN                                                                                                                                                        \n",
       "2                                                NaN                                                                                                                                                        \n",
       "3                                                NaN                                                                                                                                                        \n",
       "4                                                NaN                                                                                                                                                        \n",
       "\n",
       "  Complete?.2  \n",
       "0    Complete  \n",
       "1    Complete  \n",
       "2    Complete  \n",
       "3    Complete  \n",
       "4    Complete  \n",
       "\n",
       "[5 rows x 91 columns]"
      ]
     },
     "execution_count": 186,
     "metadata": {},
     "output_type": "execute_result"
    }
   ],
   "source": [
    "#first look at the dataset\n",
    "df.head()"
   ]
  },
  {
   "cell_type": "code",
   "execution_count": 187,
   "id": "fedf2fc6",
   "metadata": {
    "slideshow": {
     "slide_type": "skip"
    }
   },
   "outputs": [],
   "source": [
    "#dropping unneeded columns and dropping missing values\n",
    "df_hospitaldogs = df[['Event Name', 'Patient  Depression rating based on image above', 'Patient  Anxiety rating based on image above', 'Patient  Pain rating based on image above']].dropna()"
   ]
  },
  {
   "cell_type": "code",
   "execution_count": 188,
   "id": "81563e31",
   "metadata": {
    "slideshow": {
     "slide_type": "skip"
    }
   },
   "outputs": [
    {
     "data": {
      "text/html": [
       "<div>\n",
       "<style scoped>\n",
       "    .dataframe tbody tr th:only-of-type {\n",
       "        vertical-align: middle;\n",
       "    }\n",
       "\n",
       "    .dataframe tbody tr th {\n",
       "        vertical-align: top;\n",
       "    }\n",
       "\n",
       "    .dataframe thead th {\n",
       "        text-align: right;\n",
       "    }\n",
       "</style>\n",
       "<table border=\"1\" class=\"dataframe\">\n",
       "  <thead>\n",
       "    <tr style=\"text-align: right;\">\n",
       "      <th></th>\n",
       "      <th>Event Name</th>\n",
       "      <th>Patient  Depression rating based on image above</th>\n",
       "      <th>Patient  Anxiety rating based on image above</th>\n",
       "      <th>Patient  Pain rating based on image above</th>\n",
       "    </tr>\n",
       "  </thead>\n",
       "  <tbody>\n",
       "    <tr>\n",
       "      <th>0</th>\n",
       "      <td>Baseline (T0) (Arm 1: Dog)</td>\n",
       "      <td>10.0</td>\n",
       "      <td>10.0</td>\n",
       "      <td>3.0</td>\n",
       "    </tr>\n",
       "    <tr>\n",
       "      <th>1</th>\n",
       "      <td>Baseline (T0) (Arm 1: Dog)</td>\n",
       "      <td>6.0</td>\n",
       "      <td>6.0</td>\n",
       "      <td>6.0</td>\n",
       "    </tr>\n",
       "    <tr>\n",
       "      <th>2</th>\n",
       "      <td>Baseline (T0) (Arm 1: Dog)</td>\n",
       "      <td>2.0</td>\n",
       "      <td>6.0</td>\n",
       "      <td>0.0</td>\n",
       "    </tr>\n",
       "    <tr>\n",
       "      <th>3</th>\n",
       "      <td>Baseline (T0) (Arm 1: Dog)</td>\n",
       "      <td>8.0</td>\n",
       "      <td>10.0</td>\n",
       "      <td>2.0</td>\n",
       "    </tr>\n",
       "    <tr>\n",
       "      <th>4</th>\n",
       "      <td>Baseline (T0) (Arm 1: Dog)</td>\n",
       "      <td>6.0</td>\n",
       "      <td>6.0</td>\n",
       "      <td>10.0</td>\n",
       "    </tr>\n",
       "    <tr>\n",
       "      <th>...</th>\n",
       "      <td>...</td>\n",
       "      <td>...</td>\n",
       "      <td>...</td>\n",
       "      <td>...</td>\n",
       "    </tr>\n",
       "    <tr>\n",
       "      <th>247</th>\n",
       "      <td>T2 (Arm 2: No Dog)</td>\n",
       "      <td>4.0</td>\n",
       "      <td>6.0</td>\n",
       "      <td>8.0</td>\n",
       "    </tr>\n",
       "    <tr>\n",
       "      <th>248</th>\n",
       "      <td>T2 (Arm 2: No Dog)</td>\n",
       "      <td>4.0</td>\n",
       "      <td>4.0</td>\n",
       "      <td>7.0</td>\n",
       "    </tr>\n",
       "    <tr>\n",
       "      <th>250</th>\n",
       "      <td>T2 (Arm 2: No Dog)</td>\n",
       "      <td>4.0</td>\n",
       "      <td>4.0</td>\n",
       "      <td>5.0</td>\n",
       "    </tr>\n",
       "    <tr>\n",
       "      <th>251</th>\n",
       "      <td>T2 (Arm 2: No Dog)</td>\n",
       "      <td>4.0</td>\n",
       "      <td>6.0</td>\n",
       "      <td>4.0</td>\n",
       "    </tr>\n",
       "    <tr>\n",
       "      <th>253</th>\n",
       "      <td>T2 (Arm 2: No Dog)</td>\n",
       "      <td>6.0</td>\n",
       "      <td>6.0</td>\n",
       "      <td>8.0</td>\n",
       "    </tr>\n",
       "  </tbody>\n",
       "</table>\n",
       "<p>220 rows × 4 columns</p>\n",
       "</div>"
      ],
      "text/plain": [
       "                     Event Name  \\\n",
       "0    Baseline (T0) (Arm 1: Dog)   \n",
       "1    Baseline (T0) (Arm 1: Dog)   \n",
       "2    Baseline (T0) (Arm 1: Dog)   \n",
       "3    Baseline (T0) (Arm 1: Dog)   \n",
       "4    Baseline (T0) (Arm 1: Dog)   \n",
       "..                          ...   \n",
       "247          T2 (Arm 2: No Dog)   \n",
       "248          T2 (Arm 2: No Dog)   \n",
       "250          T2 (Arm 2: No Dog)   \n",
       "251          T2 (Arm 2: No Dog)   \n",
       "253          T2 (Arm 2: No Dog)   \n",
       "\n",
       "     Patient  Depression rating based on image above  \\\n",
       "0                                               10.0   \n",
       "1                                                6.0   \n",
       "2                                                2.0   \n",
       "3                                                8.0   \n",
       "4                                                6.0   \n",
       "..                                               ...   \n",
       "247                                              4.0   \n",
       "248                                              4.0   \n",
       "250                                              4.0   \n",
       "251                                              4.0   \n",
       "253                                              6.0   \n",
       "\n",
       "     Patient  Anxiety rating based on image above  \\\n",
       "0                                            10.0   \n",
       "1                                             6.0   \n",
       "2                                             6.0   \n",
       "3                                            10.0   \n",
       "4                                             6.0   \n",
       "..                                            ...   \n",
       "247                                           6.0   \n",
       "248                                           4.0   \n",
       "250                                           4.0   \n",
       "251                                           6.0   \n",
       "253                                           6.0   \n",
       "\n",
       "     Patient  Pain rating based on image above  \n",
       "0                                          3.0  \n",
       "1                                          6.0  \n",
       "2                                          0.0  \n",
       "3                                          2.0  \n",
       "4                                         10.0  \n",
       "..                                         ...  \n",
       "247                                        8.0  \n",
       "248                                        7.0  \n",
       "250                                        5.0  \n",
       "251                                        4.0  \n",
       "253                                        8.0  \n",
       "\n",
       "[220 rows x 4 columns]"
      ]
     },
     "execution_count": 188,
     "metadata": {},
     "output_type": "execute_result"
    }
   ],
   "source": [
    "df_hospitaldogs"
   ]
  },
  {
   "cell_type": "code",
   "execution_count": 189,
   "id": "ae091609",
   "metadata": {
    "slideshow": {
     "slide_type": "skip"
    }
   },
   "outputs": [
    {
     "data": {
      "text/html": [
       "<div>\n",
       "<style scoped>\n",
       "    .dataframe tbody tr th:only-of-type {\n",
       "        vertical-align: middle;\n",
       "    }\n",
       "\n",
       "    .dataframe tbody tr th {\n",
       "        vertical-align: top;\n",
       "    }\n",
       "\n",
       "    .dataframe thead th {\n",
       "        text-align: right;\n",
       "    }\n",
       "</style>\n",
       "<table border=\"1\" class=\"dataframe\">\n",
       "  <thead>\n",
       "    <tr style=\"text-align: right;\">\n",
       "      <th></th>\n",
       "      <th>Dog vs. Control Treatment</th>\n",
       "      <th>Depression Rating</th>\n",
       "      <th>Anxiety Rating</th>\n",
       "      <th>Pain Rating</th>\n",
       "    </tr>\n",
       "  </thead>\n",
       "  <tbody>\n",
       "    <tr>\n",
       "      <th>0</th>\n",
       "      <td>Baseline (T0) (Arm 1: Dog)</td>\n",
       "      <td>10.0</td>\n",
       "      <td>10.0</td>\n",
       "      <td>3.0</td>\n",
       "    </tr>\n",
       "    <tr>\n",
       "      <th>1</th>\n",
       "      <td>Baseline (T0) (Arm 1: Dog)</td>\n",
       "      <td>6.0</td>\n",
       "      <td>6.0</td>\n",
       "      <td>6.0</td>\n",
       "    </tr>\n",
       "    <tr>\n",
       "      <th>2</th>\n",
       "      <td>Baseline (T0) (Arm 1: Dog)</td>\n",
       "      <td>2.0</td>\n",
       "      <td>6.0</td>\n",
       "      <td>0.0</td>\n",
       "    </tr>\n",
       "    <tr>\n",
       "      <th>3</th>\n",
       "      <td>Baseline (T0) (Arm 1: Dog)</td>\n",
       "      <td>8.0</td>\n",
       "      <td>10.0</td>\n",
       "      <td>2.0</td>\n",
       "    </tr>\n",
       "    <tr>\n",
       "      <th>4</th>\n",
       "      <td>Baseline (T0) (Arm 1: Dog)</td>\n",
       "      <td>6.0</td>\n",
       "      <td>6.0</td>\n",
       "      <td>10.0</td>\n",
       "    </tr>\n",
       "    <tr>\n",
       "      <th>...</th>\n",
       "      <td>...</td>\n",
       "      <td>...</td>\n",
       "      <td>...</td>\n",
       "      <td>...</td>\n",
       "    </tr>\n",
       "    <tr>\n",
       "      <th>247</th>\n",
       "      <td>T2 (Arm 2: No Dog)</td>\n",
       "      <td>4.0</td>\n",
       "      <td>6.0</td>\n",
       "      <td>8.0</td>\n",
       "    </tr>\n",
       "    <tr>\n",
       "      <th>248</th>\n",
       "      <td>T2 (Arm 2: No Dog)</td>\n",
       "      <td>4.0</td>\n",
       "      <td>4.0</td>\n",
       "      <td>7.0</td>\n",
       "    </tr>\n",
       "    <tr>\n",
       "      <th>250</th>\n",
       "      <td>T2 (Arm 2: No Dog)</td>\n",
       "      <td>4.0</td>\n",
       "      <td>4.0</td>\n",
       "      <td>5.0</td>\n",
       "    </tr>\n",
       "    <tr>\n",
       "      <th>251</th>\n",
       "      <td>T2 (Arm 2: No Dog)</td>\n",
       "      <td>4.0</td>\n",
       "      <td>6.0</td>\n",
       "      <td>4.0</td>\n",
       "    </tr>\n",
       "    <tr>\n",
       "      <th>253</th>\n",
       "      <td>T2 (Arm 2: No Dog)</td>\n",
       "      <td>6.0</td>\n",
       "      <td>6.0</td>\n",
       "      <td>8.0</td>\n",
       "    </tr>\n",
       "  </tbody>\n",
       "</table>\n",
       "<p>220 rows × 4 columns</p>\n",
       "</div>"
      ],
      "text/plain": [
       "      Dog vs. Control Treatment  Depression Rating  Anxiety Rating  \\\n",
       "0    Baseline (T0) (Arm 1: Dog)               10.0            10.0   \n",
       "1    Baseline (T0) (Arm 1: Dog)                6.0             6.0   \n",
       "2    Baseline (T0) (Arm 1: Dog)                2.0             6.0   \n",
       "3    Baseline (T0) (Arm 1: Dog)                8.0            10.0   \n",
       "4    Baseline (T0) (Arm 1: Dog)                6.0             6.0   \n",
       "..                          ...                ...             ...   \n",
       "247          T2 (Arm 2: No Dog)                4.0             6.0   \n",
       "248          T2 (Arm 2: No Dog)                4.0             4.0   \n",
       "250          T2 (Arm 2: No Dog)                4.0             4.0   \n",
       "251          T2 (Arm 2: No Dog)                4.0             6.0   \n",
       "253          T2 (Arm 2: No Dog)                6.0             6.0   \n",
       "\n",
       "     Pain Rating  \n",
       "0            3.0  \n",
       "1            6.0  \n",
       "2            0.0  \n",
       "3            2.0  \n",
       "4           10.0  \n",
       "..           ...  \n",
       "247          8.0  \n",
       "248          7.0  \n",
       "250          5.0  \n",
       "251          4.0  \n",
       "253          8.0  \n",
       "\n",
       "[220 rows x 4 columns]"
      ]
     },
     "execution_count": 189,
     "metadata": {},
     "output_type": "execute_result"
    }
   ],
   "source": [
    "#renaming features with clearer labels\n",
    "new_column_names = ['Dog vs. Control Treatment', 'Depression Rating', 'Anxiety Rating', 'Pain Rating']\n",
    "df_hospitaldogs.columns = new_column_names\n",
    "df_hospitaldogs"
   ]
  },
  {
   "cell_type": "code",
   "execution_count": 190,
   "id": "7d0eb907",
   "metadata": {
    "slideshow": {
     "slide_type": "skip"
    }
   },
   "outputs": [],
   "source": [
    "#creating a dictionary to rename my categorical observations with clearer labels\n",
    "new_values = {'Baseline (T0) (Arm 1: Dog)': 'Initial Dog Exposure', 'T1 (Arm 1: Dog)' : '30 Minutes Post Dog Exposure', 'Baseline (T0) (Arm 2: No Dog)': 'Initial Control Exposure', 'T1 (Arm 2: No Dog)': '30 Minutes Post Control Exposure', 'T2 (Arm 1: Dog)': '60 Minutes Post Dog Exposure', 'T2 (Arm 2: No Dog)': '60 Minutes Post Control Exposure'}"
   ]
  },
  {
   "cell_type": "code",
   "execution_count": 191,
   "id": "58f63f56",
   "metadata": {
    "scrolled": false,
    "slideshow": {
     "slide_type": "skip"
    }
   },
   "outputs": [
    {
     "data": {
      "text/html": [
       "<div>\n",
       "<style scoped>\n",
       "    .dataframe tbody tr th:only-of-type {\n",
       "        vertical-align: middle;\n",
       "    }\n",
       "\n",
       "    .dataframe tbody tr th {\n",
       "        vertical-align: top;\n",
       "    }\n",
       "\n",
       "    .dataframe thead th {\n",
       "        text-align: right;\n",
       "    }\n",
       "</style>\n",
       "<table border=\"1\" class=\"dataframe\">\n",
       "  <thead>\n",
       "    <tr style=\"text-align: right;\">\n",
       "      <th></th>\n",
       "      <th>Dog vs. Control Treatment</th>\n",
       "      <th>Depression Rating</th>\n",
       "      <th>Anxiety Rating</th>\n",
       "      <th>Pain Rating</th>\n",
       "    </tr>\n",
       "  </thead>\n",
       "  <tbody>\n",
       "    <tr>\n",
       "      <th>0</th>\n",
       "      <td>Initial Dog Exposure</td>\n",
       "      <td>10.0</td>\n",
       "      <td>10.0</td>\n",
       "      <td>3.0</td>\n",
       "    </tr>\n",
       "    <tr>\n",
       "      <th>1</th>\n",
       "      <td>Initial Dog Exposure</td>\n",
       "      <td>6.0</td>\n",
       "      <td>6.0</td>\n",
       "      <td>6.0</td>\n",
       "    </tr>\n",
       "    <tr>\n",
       "      <th>2</th>\n",
       "      <td>Initial Dog Exposure</td>\n",
       "      <td>2.0</td>\n",
       "      <td>6.0</td>\n",
       "      <td>0.0</td>\n",
       "    </tr>\n",
       "    <tr>\n",
       "      <th>3</th>\n",
       "      <td>Initial Dog Exposure</td>\n",
       "      <td>8.0</td>\n",
       "      <td>10.0</td>\n",
       "      <td>2.0</td>\n",
       "    </tr>\n",
       "    <tr>\n",
       "      <th>4</th>\n",
       "      <td>Initial Dog Exposure</td>\n",
       "      <td>6.0</td>\n",
       "      <td>6.0</td>\n",
       "      <td>10.0</td>\n",
       "    </tr>\n",
       "    <tr>\n",
       "      <th>...</th>\n",
       "      <td>...</td>\n",
       "      <td>...</td>\n",
       "      <td>...</td>\n",
       "      <td>...</td>\n",
       "    </tr>\n",
       "    <tr>\n",
       "      <th>247</th>\n",
       "      <td>60 Minutes Post Control Exposure</td>\n",
       "      <td>4.0</td>\n",
       "      <td>6.0</td>\n",
       "      <td>8.0</td>\n",
       "    </tr>\n",
       "    <tr>\n",
       "      <th>248</th>\n",
       "      <td>60 Minutes Post Control Exposure</td>\n",
       "      <td>4.0</td>\n",
       "      <td>4.0</td>\n",
       "      <td>7.0</td>\n",
       "    </tr>\n",
       "    <tr>\n",
       "      <th>250</th>\n",
       "      <td>60 Minutes Post Control Exposure</td>\n",
       "      <td>4.0</td>\n",
       "      <td>4.0</td>\n",
       "      <td>5.0</td>\n",
       "    </tr>\n",
       "    <tr>\n",
       "      <th>251</th>\n",
       "      <td>60 Minutes Post Control Exposure</td>\n",
       "      <td>4.0</td>\n",
       "      <td>6.0</td>\n",
       "      <td>4.0</td>\n",
       "    </tr>\n",
       "    <tr>\n",
       "      <th>253</th>\n",
       "      <td>60 Minutes Post Control Exposure</td>\n",
       "      <td>6.0</td>\n",
       "      <td>6.0</td>\n",
       "      <td>8.0</td>\n",
       "    </tr>\n",
       "  </tbody>\n",
       "</table>\n",
       "<p>220 rows × 4 columns</p>\n",
       "</div>"
      ],
      "text/plain": [
       "            Dog vs. Control Treatment  Depression Rating  Anxiety Rating  \\\n",
       "0                Initial Dog Exposure               10.0            10.0   \n",
       "1                Initial Dog Exposure                6.0             6.0   \n",
       "2                Initial Dog Exposure                2.0             6.0   \n",
       "3                Initial Dog Exposure                8.0            10.0   \n",
       "4                Initial Dog Exposure                6.0             6.0   \n",
       "..                                ...                ...             ...   \n",
       "247  60 Minutes Post Control Exposure                4.0             6.0   \n",
       "248  60 Minutes Post Control Exposure                4.0             4.0   \n",
       "250  60 Minutes Post Control Exposure                4.0             4.0   \n",
       "251  60 Minutes Post Control Exposure                4.0             6.0   \n",
       "253  60 Minutes Post Control Exposure                6.0             6.0   \n",
       "\n",
       "     Pain Rating  \n",
       "0            3.0  \n",
       "1            6.0  \n",
       "2            0.0  \n",
       "3            2.0  \n",
       "4           10.0  \n",
       "..           ...  \n",
       "247          8.0  \n",
       "248          7.0  \n",
       "250          5.0  \n",
       "251          4.0  \n",
       "253          8.0  \n",
       "\n",
       "[220 rows x 4 columns]"
      ]
     },
     "execution_count": 191,
     "metadata": {},
     "output_type": "execute_result"
    }
   ],
   "source": [
    "#renaming categorical observations\n",
    "df_hospitaldogs['Dog vs. Control Treatment'] = df_hospitaldogs['Dog vs. Control Treatment'].replace(new_values)\n",
    "df_hospitaldogs"
   ]
  },
  {
   "cell_type": "code",
   "execution_count": 192,
   "id": "837428e2",
   "metadata": {
    "slideshow": {
     "slide_type": "skip"
    }
   },
   "outputs": [
    {
     "data": {
      "text/html": [
       "<div>\n",
       "<style scoped>\n",
       "    .dataframe tbody tr th:only-of-type {\n",
       "        vertical-align: middle;\n",
       "    }\n",
       "\n",
       "    .dataframe tbody tr th {\n",
       "        vertical-align: top;\n",
       "    }\n",
       "\n",
       "    .dataframe thead th {\n",
       "        text-align: right;\n",
       "    }\n",
       "</style>\n",
       "<table border=\"1\" class=\"dataframe\">\n",
       "  <thead>\n",
       "    <tr style=\"text-align: right;\">\n",
       "      <th></th>\n",
       "      <th>Dog vs. Control Treatment</th>\n",
       "      <th>Depression Rating</th>\n",
       "      <th>Anxiety Rating</th>\n",
       "      <th>Pain Rating</th>\n",
       "    </tr>\n",
       "  </thead>\n",
       "  <tbody>\n",
       "    <tr>\n",
       "      <th>0</th>\n",
       "      <td>Initial Dog Exposure</td>\n",
       "      <td>10.0</td>\n",
       "      <td>10.0</td>\n",
       "      <td>3.0</td>\n",
       "    </tr>\n",
       "    <tr>\n",
       "      <th>1</th>\n",
       "      <td>Initial Dog Exposure</td>\n",
       "      <td>6.0</td>\n",
       "      <td>6.0</td>\n",
       "      <td>6.0</td>\n",
       "    </tr>\n",
       "    <tr>\n",
       "      <th>2</th>\n",
       "      <td>Initial Dog Exposure</td>\n",
       "      <td>2.0</td>\n",
       "      <td>6.0</td>\n",
       "      <td>0.0</td>\n",
       "    </tr>\n",
       "    <tr>\n",
       "      <th>3</th>\n",
       "      <td>Initial Dog Exposure</td>\n",
       "      <td>8.0</td>\n",
       "      <td>10.0</td>\n",
       "      <td>2.0</td>\n",
       "    </tr>\n",
       "    <tr>\n",
       "      <th>4</th>\n",
       "      <td>Initial Dog Exposure</td>\n",
       "      <td>6.0</td>\n",
       "      <td>6.0</td>\n",
       "      <td>10.0</td>\n",
       "    </tr>\n",
       "    <tr>\n",
       "      <th>...</th>\n",
       "      <td>...</td>\n",
       "      <td>...</td>\n",
       "      <td>...</td>\n",
       "      <td>...</td>\n",
       "    </tr>\n",
       "    <tr>\n",
       "      <th>247</th>\n",
       "      <td>60 Minutes Post Control Exposure</td>\n",
       "      <td>4.0</td>\n",
       "      <td>6.0</td>\n",
       "      <td>8.0</td>\n",
       "    </tr>\n",
       "    <tr>\n",
       "      <th>248</th>\n",
       "      <td>60 Minutes Post Control Exposure</td>\n",
       "      <td>4.0</td>\n",
       "      <td>4.0</td>\n",
       "      <td>7.0</td>\n",
       "    </tr>\n",
       "    <tr>\n",
       "      <th>250</th>\n",
       "      <td>60 Minutes Post Control Exposure</td>\n",
       "      <td>4.0</td>\n",
       "      <td>4.0</td>\n",
       "      <td>5.0</td>\n",
       "    </tr>\n",
       "    <tr>\n",
       "      <th>251</th>\n",
       "      <td>60 Minutes Post Control Exposure</td>\n",
       "      <td>4.0</td>\n",
       "      <td>6.0</td>\n",
       "      <td>4.0</td>\n",
       "    </tr>\n",
       "    <tr>\n",
       "      <th>253</th>\n",
       "      <td>60 Minutes Post Control Exposure</td>\n",
       "      <td>6.0</td>\n",
       "      <td>6.0</td>\n",
       "      <td>8.0</td>\n",
       "    </tr>\n",
       "  </tbody>\n",
       "</table>\n",
       "<p>187 rows × 4 columns</p>\n",
       "</div>"
      ],
      "text/plain": [
       "            Dog vs. Control Treatment  Depression Rating  Anxiety Rating  \\\n",
       "0                Initial Dog Exposure               10.0            10.0   \n",
       "1                Initial Dog Exposure                6.0             6.0   \n",
       "2                Initial Dog Exposure                2.0             6.0   \n",
       "3                Initial Dog Exposure                8.0            10.0   \n",
       "4                Initial Dog Exposure                6.0             6.0   \n",
       "..                                ...                ...             ...   \n",
       "247  60 Minutes Post Control Exposure                4.0             6.0   \n",
       "248  60 Minutes Post Control Exposure                4.0             4.0   \n",
       "250  60 Minutes Post Control Exposure                4.0             4.0   \n",
       "251  60 Minutes Post Control Exposure                4.0             6.0   \n",
       "253  60 Minutes Post Control Exposure                6.0             6.0   \n",
       "\n",
       "     Pain Rating  \n",
       "0            3.0  \n",
       "1            6.0  \n",
       "2            0.0  \n",
       "3            2.0  \n",
       "4           10.0  \n",
       "..           ...  \n",
       "247          8.0  \n",
       "248          7.0  \n",
       "250          5.0  \n",
       "251          4.0  \n",
       "253          8.0  \n",
       "\n",
       "[187 rows x 4 columns]"
      ]
     },
     "execution_count": 192,
     "metadata": {},
     "output_type": "execute_result"
    }
   ],
   "source": [
    "#dropping the duplicates\n",
    "df_hospitaldogs = df_hospitaldogs.drop_duplicates()\n",
    "df_hospitaldogs"
   ]
  },
  {
   "cell_type": "code",
   "execution_count": 193,
   "id": "cd637894",
   "metadata": {
    "slideshow": {
     "slide_type": "skip"
    }
   },
   "outputs": [
    {
     "name": "stdout",
     "output_type": "stream",
     "text": [
      "Number of rows in 'Initial Dog Exposure': 39\n",
      "Number of rows in 'Initial Control Exposure': 39\n",
      "Number of rows in '30 Minutes Post Dog Exposure': 32\n",
      "Number of rows in '30 Minutes Post Control Exposure': 37\n",
      "Number of rows in '60 Minutes Post Dog Exposure': 24\n",
      "Number of rows in '60 Minutes Post Control Exposure': 16\n"
     ]
    }
   ],
   "source": [
    "#double checking that the duplicates were removed from each observation \n",
    "#this gave me insight into some liminations of the dataset\n",
    "#ie: some participant data dropped off in the 30 and 60 Minutes groups\n",
    "unique_groups = df_hospitaldogs['Dog vs. Control Treatment'].unique()\n",
    "\n",
    "group_counts = {}\n",
    "\n",
    "for group in unique_groups:\n",
    "    group_rows = df_hospitaldogs[df_hospitaldogs['Dog vs. Control Treatment'] == group]\n",
    "    group_counts[group] = group_rows.shape[0]\n",
    "\n",
    "for group, count in group_counts.items():\n",
    "    print(f\"Number of rows in '{group}': {count}\")"
   ]
  },
  {
   "cell_type": "code",
   "execution_count": 194,
   "id": "0ce099f7",
   "metadata": {
    "slideshow": {
     "slide_type": "slide"
    }
   },
   "outputs": [
    {
     "name": "stdout",
     "output_type": "stream",
     "text": [
      "                   Depression Rating  Anxiety Rating  Pain Rating\n",
      "Depression Rating           1.000000        0.691394     0.184098\n",
      "Anxiety Rating              0.691394        1.000000     0.208597\n",
      "Pain Rating                 0.184098        0.208597     1.000000\n"
     ]
    }
   ],
   "source": [
    "#correlation matrix between depression, anxiety, and physical pain levels\n",
    "numeric_columns = df_hospitaldogs.select_dtypes(include=['number'])\n",
    "correlation_matrix = numeric_columns.corr()\n",
    "print(correlation_matrix)"
   ]
  },
  {
   "cell_type": "markdown",
   "id": "41452604",
   "metadata": {
    "slideshow": {
     "slide_type": "slide"
    }
   },
   "source": [
    " <div style=\"text-align: center;\"><h1>Methods</h1></div>\n",
    " <li>Hypothesis: Those in the dog group will have, on average, lower levels of depression, anxiety, and pain than those in the control group.\n",
    " <li>Divided data into six groups (3 for Dog, 3 for Control), checked the distribution of each group, and collected the mean depression, anxiety, and pain ratings within each group.</li></h2>"
   ]
  },
  {
   "cell_type": "code",
   "execution_count": 195,
   "id": "ca4f5e84",
   "metadata": {
    "slideshow": {
     "slide_type": "skip"
    }
   },
   "outputs": [
    {
     "data": {
      "text/plain": [
       "Depression Rating    5.205128\n",
       "Anxiety Rating       6.307692\n",
       "Pain Rating          6.179487\n",
       "dtype: float64"
      ]
     },
     "execution_count": 195,
     "metadata": {},
     "output_type": "execute_result"
    }
   ],
   "source": [
    "#Collecting means of depression, anxiety, and pain ratings in patients who were exposed to canine therapy\n",
    "gb = df_hospitaldogs.groupby(\"Dog vs. Control Treatment\")\n",
    "gb.get_group(\"Initial Dog Exposure\").mean(numeric_only = True)"
   ]
  },
  {
   "cell_type": "code",
   "execution_count": 196,
   "id": "d6a3a9b5",
   "metadata": {
    "slideshow": {
     "slide_type": "skip"
    }
   },
   "outputs": [
    {
     "data": {
      "text/plain": [
       "Depression Rating    3.4375\n",
       "Anxiety Rating       3.8750\n",
       "Pain Rating          4.3125\n",
       "dtype: float64"
      ]
     },
     "execution_count": 196,
     "metadata": {},
     "output_type": "execute_result"
    }
   ],
   "source": [
    "gb.get_group(\"30 Minutes Post Dog Exposure\").mean(numeric_only = True)"
   ]
  },
  {
   "cell_type": "code",
   "execution_count": 197,
   "id": "70bf8964",
   "metadata": {
    "slideshow": {
     "slide_type": "skip"
    }
   },
   "outputs": [
    {
     "data": {
      "text/plain": [
       "Depression Rating    3.416667\n",
       "Anxiety Rating       4.125000\n",
       "Pain Rating          4.375000\n",
       "dtype: float64"
      ]
     },
     "execution_count": 197,
     "metadata": {},
     "output_type": "execute_result"
    }
   ],
   "source": [
    "gb.get_group(\"60 Minutes Post Dog Exposure\").mean(numeric_only = True)"
   ]
  },
  {
   "cell_type": "code",
   "execution_count": 198,
   "id": "89beefee",
   "metadata": {
    "slideshow": {
     "slide_type": "skip"
    }
   },
   "outputs": [
    {
     "name": "stdout",
     "output_type": "stream",
     "text": [
      "{'Initial Dog Exposure': 5.2, 'Thirty Minutes Post Exposure': 3.44, 'Sixty Minutes Post Exposure': 3.41}\n"
     ]
    }
   ],
   "source": [
    "#Putting collected means in a dictionary for graphing purposes\n",
    "dep_means = {'Initial Dog Exposure': 5.2, 'Thirty Minutes Post Exposure': 3.44, 'Sixty Minutes Post Exposure': 3.41}\n",
    "\n",
    "print(dep_means)"
   ]
  },
  {
   "cell_type": "code",
   "execution_count": 199,
   "id": "c767337d",
   "metadata": {
    "slideshow": {
     "slide_type": "skip"
    }
   },
   "outputs": [
    {
     "name": "stdout",
     "output_type": "stream",
     "text": [
      "{'Initial Dog Exposure': 6.3, 'Thirty Minutes Post Exposure': 3.8, 'Sixty Minutes Post Exposure': 4.1}\n"
     ]
    },
    {
     "data": {
      "text/plain": [
       "dict_values([6.3, 3.8, 4.1])"
      ]
     },
     "execution_count": 199,
     "metadata": {},
     "output_type": "execute_result"
    }
   ],
   "source": [
    "anx_means = {'Initial Dog Exposure': 6.3, 'Thirty Minutes Post Exposure': 3.8, 'Sixty Minutes Post Exposure': 4.1}\n",
    "print(anx_means)\n",
    "anx_means.values()"
   ]
  },
  {
   "cell_type": "code",
   "execution_count": 200,
   "id": "5a80f95b",
   "metadata": {
    "slideshow": {
     "slide_type": "skip"
    }
   },
   "outputs": [],
   "source": [
    "pain_means = {'Initial Dog Exposure': 6.2, 'Thirty Minutes Post Exposure': 4.3, 'Sixty Minutes Post Exposure': 4.3}"
   ]
  },
  {
   "cell_type": "code",
   "execution_count": 201,
   "id": "e45beb73",
   "metadata": {
    "slideshow": {
     "slide_type": "skip"
    }
   },
   "outputs": [
    {
     "data": {
      "text/plain": [
       "Depression Rating    4.794872\n",
       "Anxiety Rating       5.948718\n",
       "Pain Rating          5.948718\n",
       "dtype: float64"
      ]
     },
     "execution_count": 201,
     "metadata": {},
     "output_type": "execute_result"
    }
   ],
   "source": [
    "#Collecting means of depression, anxiety, and pain ratings in patients who were exposed to standard care\n",
    "gb = df_hospitaldogs.groupby(\"Dog vs. Control Treatment\")\n",
    "gb.get_group(\"Initial Control Exposure\").mean(numeric_only = True)"
   ]
  },
  {
   "cell_type": "code",
   "execution_count": 202,
   "id": "6e9f85b0",
   "metadata": {
    "slideshow": {
     "slide_type": "skip"
    }
   },
   "outputs": [
    {
     "data": {
      "text/plain": [
       "Depression Rating    4.459459\n",
       "Anxiety Rating       5.378378\n",
       "Pain Rating          5.081081\n",
       "dtype: float64"
      ]
     },
     "execution_count": 202,
     "metadata": {},
     "output_type": "execute_result"
    }
   ],
   "source": [
    "gb = df_hospitaldogs.groupby(\"Dog vs. Control Treatment\")\n",
    "gb.get_group(\"30 Minutes Post Control Exposure\").mean(numeric_only = True)"
   ]
  },
  {
   "cell_type": "code",
   "execution_count": 203,
   "id": "a050c669",
   "metadata": {
    "slideshow": {
     "slide_type": "skip"
    }
   },
   "outputs": [
    {
     "data": {
      "text/plain": [
       "Depression Rating    4.1250\n",
       "Anxiety Rating       5.5625\n",
       "Pain Rating          4.8125\n",
       "dtype: float64"
      ]
     },
     "execution_count": 203,
     "metadata": {},
     "output_type": "execute_result"
    }
   ],
   "source": [
    "gb = df_hospitaldogs.groupby(\"Dog vs. Control Treatment\")\n",
    "gb.get_group(\"60 Minutes Post Control Exposure\").mean(numeric_only = True)"
   ]
  },
  {
   "cell_type": "code",
   "execution_count": 204,
   "id": "9436c7e8",
   "metadata": {
    "slideshow": {
     "slide_type": "skip"
    }
   },
   "outputs": [],
   "source": [
    "#Putting collected means in dictionaries\n",
    "dep_means_ctrl = {'Initial Control Exposure': 4.8, 'Thirty Minutes Post Exposure': 4.5, 'Sixty Minutes Post Exposure': 4.1}"
   ]
  },
  {
   "cell_type": "code",
   "execution_count": 205,
   "id": "bf07713b",
   "metadata": {
    "slideshow": {
     "slide_type": "skip"
    }
   },
   "outputs": [],
   "source": [
    "anx_means_ctrl = {'Initial Control Exposure': 5.9, 'Thirty Minutes Post Exposure': 5.4, 'Sixty Minutes Post Exposure': 5.6}"
   ]
  },
  {
   "cell_type": "code",
   "execution_count": 206,
   "id": "f81310a6",
   "metadata": {
    "slideshow": {
     "slide_type": "skip"
    }
   },
   "outputs": [],
   "source": [
    "pain_means_ctrl = {'Initial Control Exposure': 5.9, 'Thirty Minutes Post Exposure': 5.1, 'Sixty Minutes Post Exposure': 4.8}"
   ]
  },
  {
   "cell_type": "markdown",
   "id": "1e4f8b75",
   "metadata": {
    "slideshow": {
     "slide_type": "slide"
    }
   },
   "source": [
    " <div style=\"text-align: center;\"><h1>Results</h1></div>"
   ]
  },
  {
   "cell_type": "code",
   "execution_count": 207,
   "id": "6ba7926e",
   "metadata": {
    "slideshow": {
     "slide_type": "skip"
    }
   },
   "outputs": [
    {
     "data": {
      "image/png": "[encoded data removed]",
      "text/plain": [
       "<Figure size 640x480 with 1 Axes>"
      ]
     },
     "metadata": {},
     "output_type": "display_data"
    }
   ],
   "source": [
    "selected_categories = ['Initial Dog Exposure', '30 Minutes Post Dog Exposure', '60 Minutes Post Dog Exposure']\n",
    "histograms = []\n",
    "\n",
    "for category in selected_categories:\n",
    "    selected_data = df_hospitaldogs[df_hospitaldogs['Dog vs. Control Treatment'] == category]\n",
    "sns.histplot(selected_data['Depression Rating'], bins=10, kde=True, color='blue', label='Histogram')\n",
    "plt.title('Histogram of Depression Rating in Dog Group')\n",
    "plt.xlabel('Depression Rating')\n",
    "plt.ylabel('Frequency')\n",
    "plt.show()"
   ]
  },
  {
   "cell_type": "code",
   "execution_count": 208,
   "id": "9f9bbaf9",
   "metadata": {
    "slideshow": {
     "slide_type": "skip"
    }
   },
   "outputs": [
    {
     "data": {
      "image/png": "[encoded data removed]",
      "text/plain": [
       "<Figure size 640x480 with 1 Axes>"
      ]
     },
     "metadata": {},
     "output_type": "display_data"
    }
   ],
   "source": [
    "selected_categories = ['Initial Dog Exposure', '30 Minutes Post Dog Exposure', '60 Minutes Post Dog Exposure']\n",
    "histograms = []\n",
    "\n",
    "for category in selected_categories:\n",
    "    selected_data = df_hospitaldogs[df_hospitaldogs['Dog vs. Control Treatment'] == category]\n",
    "sns.histplot(selected_data['Anxiety Rating'], bins=10, kde=True, color='blue', label='Histogram')\n",
    "plt.title('Histogram of Anxiety Rating in Dog Group')\n",
    "plt.xlabel('Anxiety Rating')\n",
    "plt.ylabel('Frequency')\n",
    "plt.show()"
   ]
  },
  {
   "cell_type": "code",
   "execution_count": 209,
   "id": "e2780322",
   "metadata": {
    "slideshow": {
     "slide_type": "skip"
    }
   },
   "outputs": [
    {
     "data": {
      "image/png": "[encoded data removed]",
      "text/plain": [
       "<Figure size 640x480 with 1 Axes>"
      ]
     },
     "metadata": {},
     "output_type": "display_data"
    }
   ],
   "source": [
    "selected_categories = ['Initial Dog Exposure', '30 Minutes Post Dog Exposure', '60 Minutes Post Dog Exposure']\n",
    "histograms = []\n",
    "\n",
    "for category in selected_categories:\n",
    "    selected_data = df_hospitaldogs[df_hospitaldogs['Dog vs. Control Treatment'] == category]\n",
    "sns.histplot(selected_data['Pain Rating'], bins=10, kde=True, color='blue', label='Histogram')\n",
    "plt.title('Histogram of Pain Rating in Dog Group')\n",
    "plt.xlabel('Pain Rating')\n",
    "plt.ylabel('Frequency')\n",
    "plt.show()"
   ]
  },
  {
   "cell_type": "code",
   "execution_count": 210,
   "id": "4ae7ecf0",
   "metadata": {
    "slideshow": {
     "slide_type": "skip"
    }
   },
   "outputs": [
    {
     "data": {
      "image/png": "[encoded data removed]",
      "text/plain": [
       "<Figure size 640x480 with 1 Axes>"
      ]
     },
     "metadata": {},
     "output_type": "display_data"
    }
   ],
   "source": [
    "selected_categories = ['Initial Control Exposure', '30 Minutes Post Control Exposure', '60 Minutes Post Control Exposure']\n",
    "histograms = []\n",
    "\n",
    "for category in selected_categories:\n",
    "    selected_data = df_hospitaldogs[df_hospitaldogs['Dog vs. Control Treatment'] == category]\n",
    "sns.histplot(selected_data['Depression Rating'], bins=10, kde=True, color='blue', label='Histogram')\n",
    "plt.title('Histogram of Depression Rating in Control Group')\n",
    "plt.xlabel('Depression Rating')\n",
    "plt.ylabel('Frequency')\n",
    "plt.show()"
   ]
  },
  {
   "cell_type": "code",
   "execution_count": 211,
   "id": "ed887034",
   "metadata": {
    "slideshow": {
     "slide_type": "skip"
    }
   },
   "outputs": [
    {
     "data": {
      "image/png": "[encoded data removed]",
      "text/plain": [
       "<Figure size 640x480 with 1 Axes>"
      ]
     },
     "metadata": {},
     "output_type": "display_data"
    }
   ],
   "source": [
    "selected_categories = ['Initial Control Exposure', '30 Minutes Post Control Exposure', '60 Minutes Post Control Exposure']\n",
    "histograms = []\n",
    "\n",
    "for category in selected_categories:\n",
    "    selected_data = df_hospitaldogs[df_hospitaldogs['Dog vs. Control Treatment'] == category]\n",
    "sns.histplot(selected_data['Anxiety Rating'], bins=10, kde=True, color='blue', label='Histogram')\n",
    "plt.title('Histogram of Anxiety Rating in Control Group')\n",
    "plt.xlabel('Anxiety Rating')\n",
    "plt.ylabel('Frequency')\n",
    "plt.show()"
   ]
  },
  {
   "cell_type": "code",
   "execution_count": 212,
   "id": "82de8a4b",
   "metadata": {
    "slideshow": {
     "slide_type": "skip"
    }
   },
   "outputs": [
    {
     "data": {
      "image/png": "[encoded data removed]",
      "text/plain": [
       "<Figure size 640x480 with 1 Axes>"
      ]
     },
     "metadata": {},
     "output_type": "display_data"
    }
   ],
   "source": [
    "selected_categories = ['Initial Control Exposure', '30 Minutes Post Control Exposure', '60 Minutes Post Control Exposure']\n",
    "histograms = []\n",
    "\n",
    "for category in selected_categories:\n",
    "    selected_data = df_hospitaldogs[df_hospitaldogs['Dog vs. Control Treatment'] == category]\n",
    "sns.histplot(selected_data['Pain Rating'], bins=10, kde=True, color='blue', label='Histogram')\n",
    "plt.title('Histogram of Pain Rating in Control Group')\n",
    "plt.xlabel('Pain Rating')\n",
    "plt.ylabel('Frequency')\n",
    "plt.show()"
   ]
  },
  {
   "cell_type": "markdown",
   "id": "4dc94f60",
   "metadata": {
    "slideshow": {
     "slide_type": "slide"
    }
   },
   "source": [
    "<div>\n",
    "    <img src=\"https://github.com/annelisemckay/curly-chainsaw/blob/main/DepressionDogDist.png?raw=true\" alt=\"Image Alt Text\" width=\"300\" style=\"display: inline-block;\">\n",
    "    <img src=\"https://github.com/annelisemckay/curly-chainsaw/blob/main/AnxietyDogDist.png?raw=true\" alt=\"Image Alt Text\" width=\"300\" style=\"display: inline-block;\">\n",
    "    <img src=\"https://github.com/annelisemckay/curly-chainsaw/blob/main/PainDogDist.png?raw=true\" alt=\"Image Alt Text\" width=\"300\" style=\"display: inline-block;\">\n",
    "</div>\n",
    "\n",
    "<div>\n",
    "    <img src=\"https://github.com/annelisemckay/curly-chainsaw/blob/main/DepressionControlDist.png?raw=true\" alt=\"Image Alt Text\" width=\"300\" style=\"display: inline-block;\">\n",
    "    <img src=\"https://github.com/annelisemckay/curly-chainsaw/blob/main/AnxietyControlDist.png?raw=true\" alt=\"Image Alt Text\" width=\"300\" style=\"display: inline-block;\">\n",
    "    <img src=\"https://github.com/annelisemckay/curly-chainsaw/blob/main/PainControlDist.png?raw=true\" alt=\"Image Alt Text\" width=\"300\" style=\"display: inline-block;\">\n",
    "</div>"
   ]
  },
  {
   "cell_type": "markdown",
   "id": "956d7246",
   "metadata": {
    "slideshow": {
     "slide_type": "skip"
    }
   },
   "source": [
    "![Image Alt Text](https://github.com/annelisemckay/curly-chainsaw/blob/main/AnxietyDogGraphs1.png?raw=true)"
   ]
  },
  {
   "cell_type": "markdown",
   "id": "2c4746d7",
   "metadata": {
    "slideshow": {
     "slide_type": "skip"
    }
   },
   "source": [
    "![Image Alt Text](https://github.com/annelisemckay/curly-chainsaw/blob/main/DepressionDogGraphs1.png?raw=true)"
   ]
  },
  {
   "cell_type": "markdown",
   "id": "30550dfe",
   "metadata": {
    "slideshow": {
     "slide_type": "skip"
    }
   },
   "source": [
    "![Image Alt Text](https://github.com/annelisemckay/curly-chainsaw/blob/main/PainDogGraphs2.png?raw=true)"
   ]
  },
  {
   "cell_type": "code",
   "execution_count": 216,
   "id": "8f76538f",
   "metadata": {
    "slideshow": {
     "slide_type": "skip"
    }
   },
   "outputs": [
    {
     "name": "stderr",
     "output_type": "stream",
     "text": [
      "/var/folders/np/1rs948tn0mlclgg44kr4kqk40000gn/T/ipykernel_55925/3055919526.py:2: SettingWithCopyWarning: \n",
      "A value is trying to be set on a copy of a slice from a DataFrame.\n",
      "Try using .loc[row_indexer,col_indexer] = value instead\n",
      "\n",
      "See the caveats in the documentation: https://pandas.pydata.org/pandas-docs/stable/user_guide/indexing.html#returning-a-view-versus-a-copy\n",
      "  df_hospitaldogs['CategoryGroup'] = ['Group1' if dog in ['Initial Dog Exposure', '30 Minutes Post Dog Exposure', '60 Minutes Post Dog Exposure'] else 'Group2' for dog in df_hospitaldogs['Dog vs. Control Treatment']]\n"
     ]
    },
    {
     "data": {
      "image/png": "[encoded data removed]",
      "text/plain": [
       "<Figure size 617.236x500 with 1 Axes>"
      ]
     },
     "metadata": {},
     "output_type": "display_data"
    }
   ],
   "source": [
    "desired_order = ['Initial Dog Exposure', '30 Minutes Post Dog Exposure', '60 Minutes Post Dog Exposure', 'Initial Control Exposure', '30 Minutes Post Control Exposure', '60 Minutes Post Control Exposure']\n",
    "df_hospitaldogs['CategoryGroup'] = ['Group1' if dog in ['Initial Dog Exposure', '30 Minutes Post Dog Exposure', '60 Minutes Post Dog Exposure'] else 'Group2' for dog in df_hospitaldogs['Dog vs. Control Treatment']]\n",
    "sns.catplot(x = 'Dog vs. Control Treatment', \n",
    "            y = 'Anxiety Rating', \n",
    "            data = df_hospitaldogs, \n",
    "            kind = 'box',\n",
    "            hue = 'CategoryGroup',\n",
    "            order = desired_order)\n",
    "plt.xticks(rotation=90)\n",
    "plt.show()"
   ]
  },
  {
   "cell_type": "markdown",
   "id": "bfe0bf6c",
   "metadata": {
    "slideshow": {
     "slide_type": "slide"
    }
   },
   "source": [
    "<img src=\"https://github.com/annelisemckay/curly-chainsaw/blob/main/AnxietyCatPlot1.png?raw=true\" alt=\"Image Alt Text\" style=\"display: block; margin: 0 auto;\">\n"
   ]
  },
  {
   "cell_type": "code",
   "execution_count": 214,
   "id": "bd1c8466",
   "metadata": {
    "slideshow": {
     "slide_type": "skip"
    }
   },
   "outputs": [
    {
     "name": "stderr",
     "output_type": "stream",
     "text": [
      "/var/folders/np/1rs948tn0mlclgg44kr4kqk40000gn/T/ipykernel_55925/691982910.py:2: SettingWithCopyWarning: \n",
      "A value is trying to be set on a copy of a slice from a DataFrame.\n",
      "Try using .loc[row_indexer,col_indexer] = value instead\n",
      "\n",
      "See the caveats in the documentation: https://pandas.pydata.org/pandas-docs/stable/user_guide/indexing.html#returning-a-view-versus-a-copy\n",
      "  df_hospitaldogs['CategoryGroup'] = ['Group1' if dog in ['Initial Dog Exposure', '30 Minutes Post Dog Exposure', '60 Minutes Post Dog Exposure'] else 'Group2' for dog in df_hospitaldogs['Dog vs. Control Treatment']]\n"
     ]
    },
    {
     "data": {
      "image/png": "[encoded data removed]",
      "text/plain": [
       "<Figure size 617.236x500 with 1 Axes>"
      ]
     },
     "metadata": {},
     "output_type": "display_data"
    }
   ],
   "source": [
    "custom_palette = {'Group1': 'green', 'Group2': 'blue'}\n",
    "df_hospitaldogs['CategoryGroup'] = ['Group1' if dog in ['Initial Dog Exposure', '30 Minutes Post Dog Exposure', '60 Minutes Post Dog Exposure'] else 'Group2' for dog in df_hospitaldogs['Dog vs. Control Treatment']]\n",
    "desired_order = ['Initial Dog Exposure', '30 Minutes Post Dog Exposure', '60 Minutes Post Dog Exposure', 'Initial Control Exposure', '30 Minutes Post Control Exposure', '60 Minutes Post Control Exposure']\n",
    "sns.catplot(x = 'Dog vs. Control Treatment', \n",
    "            y = 'Depression Rating', \n",
    "            data = df_hospitaldogs, \n",
    "            kind = 'box',\n",
    "            hue = 'CategoryGroup',\n",
    "            order = desired_order)\n",
    "plt.xticks(rotation=90)\n",
    "plt.show()"
   ]
  },
  {
   "cell_type": "markdown",
   "id": "2cccfabd",
   "metadata": {
    "slideshow": {
     "slide_type": "slide"
    }
   },
   "source": [
    "<img src=\"https://github.com/annelisemckay/curly-chainsaw/blob/main/DepressionCatplot1.png?raw=true\" alt=\"Image Alt Text\" style=\"display: block; margin: 0 auto;\">"
   ]
  },
  {
   "cell_type": "code",
   "execution_count": 215,
   "id": "9d2e1e7d",
   "metadata": {
    "slideshow": {
     "slide_type": "skip"
    }
   },
   "outputs": [
    {
     "name": "stderr",
     "output_type": "stream",
     "text": [
      "/var/folders/np/1rs948tn0mlclgg44kr4kqk40000gn/T/ipykernel_55925/2409259219.py:2: SettingWithCopyWarning: \n",
      "A value is trying to be set on a copy of a slice from a DataFrame.\n",
      "Try using .loc[row_indexer,col_indexer] = value instead\n",
      "\n",
      "See the caveats in the documentation: https://pandas.pydata.org/pandas-docs/stable/user_guide/indexing.html#returning-a-view-versus-a-copy\n",
      "  df_hospitaldogs['CategoryGroup'] = ['Group1' if dog in ['Initial Dog Exposure', '30 Minutes Post Dog Exposure', '60 Minutes Post Dog Exposure'] else 'Group2' for dog in df_hospitaldogs['Dog vs. Control Treatment']]\n"
     ]
    },
    {
     "data": {
      "image/png": "[encoded data removed]",
      "text/plain": [
       "<Figure size 617.236x500 with 1 Axes>"
      ]
     },
     "metadata": {},
     "output_type": "display_data"
    }
   ],
   "source": [
    "desired_order = ['Initial Dog Exposure', '30 Minutes Post Dog Exposure', '60 Minutes Post Dog Exposure', 'Initial Control Exposure', '30 Minutes Post Control Exposure', '60 Minutes Post Control Exposure']\n",
    "df_hospitaldogs['CategoryGroup'] = ['Group1' if dog in ['Initial Dog Exposure', '30 Minutes Post Dog Exposure', '60 Minutes Post Dog Exposure'] else 'Group2' for dog in df_hospitaldogs['Dog vs. Control Treatment']]\n",
    "sns.catplot(x = 'Dog vs. Control Treatment', \n",
    "            y = 'Pain Rating', \n",
    "            data = df_hospitaldogs, \n",
    "            kind = 'box',\n",
    "            hue = 'CategoryGroup',\n",
    "            order = desired_order)\n",
    "plt.xticks(rotation=90)\n",
    "plt.show()"
   ]
  },
  {
   "cell_type": "markdown",
   "id": "78443e2c",
   "metadata": {
    "slideshow": {
     "slide_type": "slide"
    }
   },
   "source": [
    "<img src=\"https://github.com/annelisemckay/curly-chainsaw/blob/main/PainCatPlot1.png?raw=true\" alt=\"Image Alt Text\" style=\"display: block; margin: 0 auto;\">"
   ]
  },
  {
   "cell_type": "markdown",
   "id": "67ab7251",
   "metadata": {
    "slideshow": {
     "slide_type": "slide"
    }
   },
   "source": [
    " <div style=\"text-align: center;\"><h1>Discussion</h1></div>"
   ]
  },
  {
   "cell_type": "markdown",
   "id": "910720e5",
   "metadata": {
    "slideshow": {
     "slide_type": "slide"
    }
   },
   "source": [
    "<div><font size=2>\n",
    "    <h3>Negative Impacts of Depression and Anxiety:</h3>\n",
    "    <li>The dataset shows a weak correlation between physical pain and depression/anxiety. </li>\n",
    "    <li>The dataset shows a strong correlation between depression and anxiety.\n",
    "    <h3>Therapy Dogs as Treatment for Depression, Anxiety, and Pain:</h3>\n",
    "    <li>The dataset shows reduced levels of depression, anxiety, and physical pain in patients who interacted with a therapy dog vs. those who recieved the control treatment. </li>\n",
    "    <li>Why might therapy dogs be an effective treatment? Possible increase in oxytocin levels.</li>\n",
    "     <h3>Implications:</h3>\n",
    "    <li>This data accentuates the importance of mental healthcare and the benefits of interacting with a trained therapy dog. </li>\n",
    "    <h3>Limitations:</h3>\n",
    "    <li>Needs replication </li>\n",
    "    <li>Participation was voluntary </li>\n",
    "    <li>Small sample size </li></font>\n",
    "    </div>"
   ]
  },
  {
   "cell_type": "markdown",
   "id": "86e45111",
   "metadata": {
    "slideshow": {
     "slide_type": "slide"
    }
   },
   "source": [
    " <div style=\"text-align: center;\"><h1>Conclusion</h1></div>\n",
    " <li>Although this is a small dataset, the results are promising. </li></h2>"
   ]
  }
 ],
 "metadata": {
  "celltoolbar": "Slideshow",
  "kernelspec": {
   "display_name": "Python 3 (ipykernel)",
   "language": "python",
   "name": "python3"
  },
  "language_info": {
   "codemirror_mode": {
    "name": "ipython",
    "version": 3
   },
   "file_extension": ".py",
   "mimetype": "text/x-python",
   "name": "python",
   "nbconvert_exporter": "python",
   "pygments_lexer": "ipython3",
   "version": "3.9.13"
  }
 },
 "nbformat": 4,
 "nbformat_minor": 5
}
